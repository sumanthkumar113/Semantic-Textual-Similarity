{
  "cells": [
    {
      "cell_type": "markdown",
      "metadata": {
        "id": "view-in-github",
        "colab_type": "text"
      },
      "source": [
        "<a href=\"https://colab.research.google.com/github/sumanthkumar113/Semantic-Textual-Similarity/blob/main/Untitled0.ipynb\" target=\"_parent\"><img src=\"https://colab.research.google.com/assets/colab-badge.svg\" alt=\"Open In Colab\"/></a>"
      ]
    },
    {
      "cell_type": "code",
      "execution_count": null,
      "metadata": {
        "id": "fQ-EIObIPVO_"
      },
      "outputs": [],
      "source": []
    },
    {
      "cell_type": "code",
      "execution_count": null,
      "metadata": {
        "id": "Sev6Ch0bPQgr"
      },
      "outputs": [],
      "source": [
        "import pandas as pd\n",
        "import torch\n",
        "from sentence_transformers import SentenceTransformer\n",
        "from sklearn.model_selection import train_test_split\n",
        "from sklearn.metrics import mean_squared_error\n",
        "from transformers import AdamW, get_linear_schedule_with_warmup\n",
        "from torch.utils.data import DataLoader, Dataset\n",
        "from tqdm import tqdm\n",
        "\n",
        "# Define the custom dataset class\n",
        "class ParagraphDataset(Dataset):\n",
        "    def __init__(self, df):\n",
        "        self.paragraphs1 = df['text1'].tolist()\n",
        "        self.paragraphs2 = df['text2'].tolist()\n",
        "        self.labels = df['similarity'].tolist()\n",
        "\n",
        "    def __len__(self):\n",
        "        return len(self.labels)\n",
        "\n",
        "    def __getitem__(self, idx):\n",
        "        return self.paragraphs1[idx], self.paragraphs2[idx], self.labels[idx]\n",
        "\n",
        "# Load the pre-trained sentence transformer model\n",
        "model = SentenceTransformer('bert-base-nli-mean-tokens')\n",
        "\n",
        "# Load the dataset from the CSV file\n",
        "def load_data(file_path):\n",
        "    df = pd.read_csv(file_path)\n",
        "    df = df.dropna()  # Drop rows with NaN values\n",
        "    return df\n",
        "\n",
        "\n",
        "# Calculate the similarity score between two paragraphs\n",
        "def calculate_similarity(paragraph1, paragraph2):\n",
        "    with torch.no_grad():\n",
        "        embeddings = model.encode([paragraph1, paragraph2])\n",
        "        embeddings_tensor = torch.from_numpy(embeddings)  # Convert NumPy array to PyTorch tensor\n",
        "\n",
        "    embeddings_tensor.requires_grad = True  # Enable gradients for the tensor\n",
        "\n",
        "    similarity_score = torch.nn.functional.cosine_similarity(embeddings_tensor[0].unsqueeze(0), embeddings_tensor[1].unsqueeze(0)).item()\n",
        "    return similarity_score\n",
        "\n",
        "\n",
        "# Main function\n",
        "def main():\n",
        "    file_path = '/content/Precily_Text_Similarity.csv'  # Path to the input CSV file\n",
        "\n",
        "    df = load_data(file_path)\n",
        "\n",
        "    # Split the dataset into train and test sets\n",
        "    train_df, test_df = train_test_split(df, test_size=0.2, random_state=42)\n",
        "\n",
        "    # Create train and test datasets\n",
        "    train_dataset = ParagraphDataset(train_df)\n",
        "    test_dataset = ParagraphDataset(test_df)\n",
        "\n",
        "    # Define model parameters\n",
        "    num_epochs = 3\n",
        "    batch_size = 8\n",
        "    learning_rate = 2e-5\n",
        "\n",
        "    # Create data loaders\n",
        "    train_loader = DataLoader(train_dataset, batch_size=batch_size, shuffle=True)\n",
        "    test_loader = DataLoader(test_dataset, batch_size=batch_size, shuffle=False)\n",
        "\n",
        "    # Move the model to GPU if available\n",
        "    device = torch.device('cuda' if torch.cuda.is_available() else 'cpu')\n",
        "    model.to(device)\n",
        "\n",
        "    # Define optimizer and learning rate scheduler\n",
        "    optimizer = AdamW(model.parameters(), lr=learning_rate)\n",
        "    total_steps = len(train_loader) * num_epochs\n",
        "    scheduler = get_linear_schedule_with_warmup(optimizer, num_warmup_steps=0, num_training_steps=total_steps)\n",
        "\n",
        "    # Model training\n",
        "    model.train()\n",
        "    for epoch in range(num_epochs):\n",
        "        total_loss = 0.0\n",
        "        progress_bar = tqdm(train_loader, desc=f'Epoch {epoch+1}/{num_epochs}', leave=False)\n",
        "        for paragraphs1, paragraphs2, labels in progress_bar:\n",
        "            paragraphs1 = list(paragraphs1)\n",
        "            paragraphs2 = list(paragraphs2)\n",
        "            labels = labels.to(device)\n",
        "\n",
        "            # Calculate similarity scores\n",
        "            similarities = []\n",
        "            for p1, p2 in zip(paragraphs1, paragraphs2):\n",
        "                similarity_score = calculate_similarity(p1, p2)\n",
        "                similarities.append(similarity_score)\n",
        "\n",
        "            similarities = torch.tensor(similarities, device=device)\n",
        "\n",
        "            # Calculate loss and perform backpropagation\n",
        "            # Calculate loss and perform backpropagation\n",
        "            loss = torch.nn.functional.mse_loss(similarities, labels)\n",
        "            loss.requires_grad = True  # Enable gradients for the loss tensor\n",
        "            loss.backward()\n",
        "            torch.nn.utils.clip_grad_norm_(model.parameters(), max_norm=1.0)\n",
        "            optimizer.step()\n",
        "            scheduler.step()\n",
        "            optimizer.zero_grad()\n",
        "\n",
        "\n",
        "            total_loss += loss.item()\n",
        "\n",
        "            progress_bar.set_postfix({'loss': total_loss / len(train_loader)})\n",
        "\n",
        "    # Model evaluation on test set\n",
        "    model.eval()\n",
        "    predictions = []\n",
        "    true_labels = []\n",
        "    with torch.no_grad():\n",
        "        for paragraphs1, paragraphs2, labels in test_loader:\n",
        "            paragraphs1 = list(paragraphs1)\n",
        "            paragraphs2 = list(paragraphs2)\n",
        "            labels = labels.tolist()\n",
        "            true_labels.extend(labels)\n",
        "\n",
        "            similarities = []\n",
        "            for p1, p2 in zip(paragraphs1, paragraphs2):\n",
        "                similarity_score = calculate_similarity(p1, p2)\n",
        "                similarities.append(similarity_score)\n",
        "\n",
        "            predictions.extend(similarities)\n",
        "\n",
        "    # Calculate evaluation metrics\n",
        "    mse = mean_squared_error(true_labels, predictions)\n",
        "    print(f\"Mean Squared Error: {mse}\")\n",
        "\n",
        "\n"
      ]
    },
    {
      "cell_type": "code",
      "execution_count": null,
      "metadata": {
        "id": "31CQwAO1SFZG"
      },
      "outputs": [],
      "source": [
        "import tensorflow as tf\n"
      ]
    },
    {
      "cell_type": "code",
      "source": [
        "model = model.train()\n",
        "\n",
        "# Save the entire model as a `.keras` zip archive.\n",
        "model.save('my_model.keras')"
      ],
      "metadata": {
        "id": "H0gv4y4AR_My"
      },
      "execution_count": null,
      "outputs": []
    },
    {
      "cell_type": "code",
      "source": [
        "model.summary()"
      ],
      "metadata": {
        "colab": {
          "base_uri": "https://localhost:8080/",
          "height": 299
        },
        "id": "ISH711gcWbER",
        "outputId": "ac745729-339a-494f-980d-2ea542d041c8"
      },
      "execution_count": null,
      "outputs": [
        {
          "output_type": "error",
          "ename": "AttributeError",
          "evalue": "ignored",
          "traceback": [
            "\u001b[0;31m---------------------------------------------------------------------------\u001b[0m",
            "\u001b[0;31mAttributeError\u001b[0m                            Traceback (most recent call last)",
            "\u001b[0;32m<ipython-input-22-5f15418b3570>\u001b[0m in \u001b[0;36m<cell line: 1>\u001b[0;34m()\u001b[0m\n\u001b[0;32m----> 1\u001b[0;31m \u001b[0mmodel\u001b[0m\u001b[0;34m.\u001b[0m\u001b[0msummary\u001b[0m\u001b[0;34m(\u001b[0m\u001b[0;34m)\u001b[0m\u001b[0;34m\u001b[0m\u001b[0;34m\u001b[0m\u001b[0m\n\u001b[0m",
            "\u001b[0;32m/usr/local/lib/python3.10/dist-packages/torch/nn/modules/module.py\u001b[0m in \u001b[0;36m__getattr__\u001b[0;34m(self, name)\u001b[0m\n\u001b[1;32m   1612\u001b[0m             \u001b[0;32mif\u001b[0m \u001b[0mname\u001b[0m \u001b[0;32min\u001b[0m \u001b[0mmodules\u001b[0m\u001b[0;34m:\u001b[0m\u001b[0;34m\u001b[0m\u001b[0;34m\u001b[0m\u001b[0m\n\u001b[1;32m   1613\u001b[0m                 \u001b[0;32mreturn\u001b[0m \u001b[0mmodules\u001b[0m\u001b[0;34m[\u001b[0m\u001b[0mname\u001b[0m\u001b[0;34m]\u001b[0m\u001b[0;34m\u001b[0m\u001b[0;34m\u001b[0m\u001b[0m\n\u001b[0;32m-> 1614\u001b[0;31m         raise AttributeError(\"'{}' object has no attribute '{}'\".format(\n\u001b[0m\u001b[1;32m   1615\u001b[0m             type(self).__name__, name))\n\u001b[1;32m   1616\u001b[0m \u001b[0;34m\u001b[0m\u001b[0m\n",
            "\u001b[0;31mAttributeError\u001b[0m: 'SentenceTransformer' object has no attribute 'summary'"
          ]
        }
      ]
    },
    {
      "cell_type": "code",
      "source": [],
      "metadata": {
        "id": "mzVvScUrWwiw"
      },
      "execution_count": null,
      "outputs": []
    }
  ],
  "metadata": {
    "colab": {
      "provenance": [],
      "mount_file_id": "1cXlxT2sjPzTC2WDy4ErbMiPuiIhUN__V",
      "authorship_tag": "ABX9TyOtUfSgkZM0TAXzHnUyjfMm",
      "include_colab_link": true
    },
    "kernelspec": {
      "display_name": "Python 3",
      "name": "python3"
    },
    "language_info": {
      "name": "python"
    }
  },
  "nbformat": 4,
  "nbformat_minor": 0
}